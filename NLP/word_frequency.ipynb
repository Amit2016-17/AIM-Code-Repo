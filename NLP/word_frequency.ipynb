{
  "nbformat": 4,
  "nbformat_minor": 0,
  "metadata": {
    "colab": {
      "name": "word frequency.ipynb",
      "provenance": []
    },
    "kernelspec": {
      "name": "python3",
      "display_name": "Python 3"
    }
  },
  "cells": [
    {
      "cell_type": "markdown",
      "metadata": {
        "id": "-bjUiM6_t8su"
      },
      "source": [
        "\n",
        "## **In this practice we will use natural language processing to build a spam classifier**\n",
        "## **We will make use of the sms spam classification data for the implementation**"
      ]
    },
    {
      "cell_type": "markdown",
      "metadata": {
        "id": "I5kFy2QpuGQ2"
      },
      "source": [
        "## **Data processing**\n",
        "1. Import the libraries needed\n",
        "2. Load the data from the link \n",
        "3. Extract the data from HTML\n",
        "4. Convert text to tokens\n",
        "\n",
        "## **Using NLP**\n",
        "1. Remove stop words from the text\n",
        "2. Get a list of all words after removing stop words\n",
        "3. Analysing word frequency and plot the graph\n"
      ]
    },
    {
      "cell_type": "markdown",
      "metadata": {
        "id": "DhCijxg-r3Bf"
      },
      "source": [
        "## **Import the libraries needed**"
      ]
    },
    {
      "cell_type": "code",
      "metadata": {
        "id": "WrX0_LIMrm-V"
      },
      "source": [
        "#import the required packages\n",
        "import requests\n",
        "from bs4 import BeautifulSoup\n",
        "import re\n",
        "import nltk\n",
        "import seaborn as sns\n",
        "import matplotlib.pyplot as plt"
      ],
      "execution_count": null,
      "outputs": []
    },
    {
      "cell_type": "markdown",
      "metadata": {
        "id": "0tHa4_unr8hz"
      },
      "source": [
        "## **Load dataset from the link**"
      ]
    },
    {
      "cell_type": "code",
      "metadata": {
        "id": "aTgTrldeg8TC"
      },
      "source": [
        "#get the dataset from link\n",
        "dataset='https://www.gutenberg.org/files/1661/1661-h/1661-h.htm'\n",
        "reading=requests.get(dataset)\n"
      ],
      "execution_count": 2,
      "outputs": []
    },
    {
      "cell_type": "markdown",
      "metadata": {
        "id": "BBsYNmAhsCD2"
      },
      "source": [
        "## **Extract text from HTML**"
      ]
    },
    {
      "cell_type": "code",
      "metadata": {
        "id": "vpbd_EibiNtX"
      },
      "source": [
        "html=reading.text"
      ],
      "execution_count": 3,
      "outputs": []
    },
    {
      "cell_type": "code",
      "metadata": {
        "id": "6oc4RIEpip6U"
      },
      "source": [
        "#extract the text using web scraping tool\n",
        "data=BeautifulSoup(html,\"html5lib\")"
      ],
      "execution_count": 4,
      "outputs": []
    },
    {
      "cell_type": "code",
      "metadata": {
        "id": "NsxcQ6OUi376",
        "outputId": "266c5bb5-f60b-4a3c-9ce5-bf8880cbf9f7",
        "colab": {
          "base_uri": "https://localhost:8080/",
          "height": 34
        }
      },
      "source": [
        "data.title"
      ],
      "execution_count": 5,
      "outputs": [
        {
          "output_type": "execute_result",
          "data": {
            "text/plain": [
              "<title>The Adventures of Sherlock Holmes, by Arthur Conan Doyle</title>"
            ]
          },
          "metadata": {
            "tags": []
          },
          "execution_count": 5
        }
      ]
    },
    {
      "cell_type": "code",
      "metadata": {
        "id": "6vtu_U8oi6kM",
        "outputId": "bae1689f-336c-4fcb-d5cb-1cf6d63571b0",
        "colab": {
          "base_uri": "https://localhost:8080/",
          "height": 238
        }
      },
      "source": [
        "data.findAll('a')[:12]"
      ],
      "execution_count": 10,
      "outputs": [
        {
          "output_type": "execute_result",
          "data": {
            "text/plain": [
              "[<a href=\"https://www.gutenberg.org/ebooks/48320\">\n",
              " [ #48320 ]</a>,\n",
              " <a href=\"#chap01\">A Scandal in Bohemia</a>,\n",
              " <a href=\"#chap02\">The Red-Headed League</a>,\n",
              " <a href=\"#chap03\">A Case of Identity</a>,\n",
              " <a href=\"#chap04\">The Boscombe Valley Mystery</a>,\n",
              " <a href=\"#chap05\">The Five Orange Pips</a>,\n",
              " <a href=\"#chap06\">The Man with the Twisted Lip</a>,\n",
              " <a href=\"#chap07\">The Adventure of the Blue Carbuncle</a>,\n",
              " <a href=\"#chap08\">The Adventure of the Speckled Band</a>,\n",
              " <a href=\"#chap09\">The Adventure of the Engineer’s Thumb</a>,\n",
              " <a href=\"#chap10\">The Adventure of the Noble Bachelor</a>,\n",
              " <a href=\"#chap11\">The Adventure of the Beryl Coronet</a>]"
            ]
          },
          "metadata": {
            "tags": []
          },
          "execution_count": 10
        }
      ]
    },
    {
      "cell_type": "markdown",
      "metadata": {
        "id": "WTRqND_csIAh"
      },
      "source": [
        "## **Convert text into tokens**"
      ]
    },
    {
      "cell_type": "code",
      "metadata": {
        "id": "gcAw4sk_jADI",
        "outputId": "98c8202d-48ac-470b-d719-9d26f88c93e2",
        "colab": {
          "base_uri": "https://localhost:8080/",
          "height": 187
        }
      },
      "source": [
        "#tokenize the text with regular expressions\n",
        "text=data.get_text()\n",
        "token=re.findall('\\w+',text)\n",
        "token[:10]"
      ],
      "execution_count": 12,
      "outputs": [
        {
          "output_type": "execute_result",
          "data": {
            "text/plain": [
              "['The',\n",
              " 'Adventures',\n",
              " 'of',\n",
              " 'Sherlock',\n",
              " 'Holmes',\n",
              " 'by',\n",
              " 'Arthur',\n",
              " 'Conan',\n",
              " 'Doyle',\n",
              " 'body']"
            ]
          },
          "metadata": {
            "tags": []
          },
          "execution_count": 12
        }
      ]
    },
    {
      "cell_type": "code",
      "metadata": {
        "id": "vPPf45dMjqVP",
        "outputId": "76380fce-8123-4549-ffdf-5f563d4eea7a",
        "colab": {
          "base_uri": "https://localhost:8080/",
          "height": 34
        }
      },
      "source": [
        "words=[]\n",
        "for word in token:\n",
        "  words.append(word.lower())\n",
        "words[:8]"
      ],
      "execution_count": 15,
      "outputs": [
        {
          "output_type": "execute_result",
          "data": {
            "text/plain": [
              "['the', 'adventures', 'of', 'sherlock', 'holmes', 'by', 'arthur', 'conan']"
            ]
          },
          "metadata": {
            "tags": []
          },
          "execution_count": 15
        }
      ]
    },
    {
      "cell_type": "markdown",
      "metadata": {
        "id": "UvKs8bxSsNdq"
      },
      "source": [
        "## **Remove all the stopwords**"
      ]
    },
    {
      "cell_type": "code",
      "metadata": {
        "id": "QIgzPIR0j1JP",
        "outputId": "51b866fd-09ba-4630-a3a5-46ed5f9d3ab4",
        "colab": {
          "base_uri": "https://localhost:8080/",
          "height": 68
        }
      },
      "source": [
        "#download the package\n",
        "nltk.download(\"stopwords\")"
      ],
      "execution_count": 20,
      "outputs": [
        {
          "output_type": "stream",
          "text": [
            "[nltk_data] Downloading package stopwords to /root/nltk_data...\n",
            "[nltk_data]   Unzipping corpora/stopwords.zip.\n"
          ],
          "name": "stdout"
        },
        {
          "output_type": "execute_result",
          "data": {
            "text/plain": [
              "True"
            ]
          },
          "metadata": {
            "tags": []
          },
          "execution_count": 20
        }
      ]
    },
    {
      "cell_type": "code",
      "metadata": {
        "id": "MfFmg1fbqUq6",
        "outputId": "880e0494-5715-42ea-e86a-35f24e7d3142",
        "colab": {
          "base_uri": "https://localhost:8080/",
          "height": 34
        }
      },
      "source": [
        "#remove stop words\n",
        "sw=nltk.corpus.stopwords.words('english')\n",
        "sw[:5]"
      ],
      "execution_count": 21,
      "outputs": [
        {
          "output_type": "execute_result",
          "data": {
            "text/plain": [
              "['i', 'me', 'my', 'myself', 'we']"
            ]
          },
          "metadata": {
            "tags": []
          },
          "execution_count": 21
        }
      ]
    },
    {
      "cell_type": "markdown",
      "metadata": {
        "id": "amL602-LsQ0d"
      },
      "source": [
        "## **Get a list of words without stop words**"
      ]
    },
    {
      "cell_type": "code",
      "metadata": {
        "id": "hqJ7drQpqoK8",
        "outputId": "3ff3e4f7-665f-4435-87aa-186fc3cccbbe",
        "colab": {
          "base_uri": "https://localhost:8080/",
          "height": 34
        }
      },
      "source": [
        "#get the list without stop words\n",
        "words_ne=[]\n",
        "for word in words:\n",
        "  if word not in sw:\n",
        "    words_ne.append(word)\n",
        "\n",
        "words_ne[:5]"
      ],
      "execution_count": 22,
      "outputs": [
        {
          "output_type": "execute_result",
          "data": {
            "text/plain": [
              "['adventures', 'sherlock', 'holmes', 'arthur', 'conan']"
            ]
          },
          "metadata": {
            "tags": []
          },
          "execution_count": 22
        }
      ]
    },
    {
      "cell_type": "markdown",
      "metadata": {
        "id": "a9jfYoiFsVm4"
      },
      "source": [
        "## **Plot the word frequency**"
      ]
    },
    {
      "cell_type": "code",
      "metadata": {
        "id": "6xLu2VI6rLX7",
        "outputId": "17127bcd-1211-4379-91b5-6c8af5c4321e",
        "colab": {
          "base_uri": "https://localhost:8080/",
          "height": 308
        }
      },
      "source": [
        "#plot the word frequency\n",
        "sns.set_style('darkgrid')\n",
        "nlp_words=nltk.FreqDist(words_ne)\n",
        "nlp_words.plot(20)"
      ],
      "execution_count": 23,
      "outputs": [
        {
          "output_type": "display_data",
          "data": {
            "image/png": "[encoded data removed]",
            "text/plain": [
              "<Figure size 432x288 with 1 Axes>"
            ]
          },
          "metadata": {
            "tags": []
          }
        }
      ]
    },
    {
      "cell_type": "code",
      "metadata": {
        "id": "WwMbK5Vlrhv0"
      },
      "source": [
        ""
      ],
      "execution_count": null,
      "outputs": []
    }
  ]
}