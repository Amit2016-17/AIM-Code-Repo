{
  "nbformat": 4,
  "nbformat_minor": 0,
  "metadata": {
    "kernelspec": {
      "name": "python3",
      "display_name": "Python 3",
      "language": "python"
    },
    "language_info": {
      "name": "python",
      "version": "3.7.6",
      "mimetype": "text/x-python",
      "codemirror_mode": {
        "name": "ipython",
        "version": 3
      },
      "pygments_lexer": "ipython3",
      "nbconvert_exporter": "python",
      "file_extension": ".py"
    },
    "colab": {
      "name": "datatable.ipynb",
      "provenance": []
    }
  },
  "cells": [
    {
      "cell_type": "code",
      "metadata": {
        "_uuid": "d629ff2d2480ee46fbb7e2d37f6b5fab8052498a",
        "_cell_guid": "79c7e3d0-c299-4dcb-8224-4455121ee9b0",
        "trusted": true,
        "id": "xQOD2QKr6d9U",
        "outputId": "cf065b32-92ba-4181-d5c5-4bc48afe353c"
      },
      "source": [
        "!pip install datatable"
      ],
      "execution_count": null,
      "outputs": [
        {
          "output_type": "stream",
          "text": [
            "Requirement already satisfied: datatable in /opt/conda/lib/python3.7/site-packages (0.11.0)\r\n"
          ],
          "name": "stdout"
        }
      ]
    },
    {
      "cell_type": "code",
      "metadata": {
        "trusted": true,
        "id": "PeTXK5ko6d9d",
        "outputId": "3cf9c7ad-efb2-4170-e296-2eb49f4d02c3"
      },
      "source": [
        "import datatable as dt\n",
        "import time\n",
        "start = time.time()\n",
        "df = dt.fread('../input/creditcardfraud/creditcard.csv')\n",
        "end = time.time()\n",
        "print(end - start)"
      ],
      "execution_count": null,
      "outputs": [
        {
          "output_type": "stream",
          "text": [
            "0.23729491233825684\n"
          ],
          "name": "stdout"
        }
      ]
    },
    {
      "cell_type": "code",
      "metadata": {
        "trusted": true,
        "id": "a4lJB0SD6d9l",
        "outputId": "1de7e7a9-b961-49f9-d6b6-7473b292b150"
      },
      "source": [
        "import pandas as pd\n",
        "start = time.time()\n",
        "pandas_df = pd.read_csv('../input/creditcardfraud/creditcard.csv')\n",
        "end = time.time()\n",
        "print(end - start)"
      ],
      "execution_count": null,
      "outputs": [
        {
          "output_type": "stream",
          "text": [
            "3.265900135040283\n"
          ],
          "name": "stdout"
        }
      ]
    },
    {
      "cell_type": "code",
      "metadata": {
        "trusted": true,
        "id": "qgaLUX106d9r",
        "outputId": "ccc875b2-b57b-4e73-ca8a-ce60e2145801"
      },
      "source": [
        "print(df.shape)  "
      ],
      "execution_count": null,
      "outputs": [
        {
          "output_type": "stream",
          "text": [
            "(284807, 31)\n"
          ],
          "name": "stdout"
        }
      ]
    },
    {
      "cell_type": "code",
      "metadata": {
        "trusted": true,
        "id": "SZQ2NtmB6d9x",
        "outputId": "3c83d22d-1d2d-426b-905e-725595514551"
      },
      "source": [
        "df.head()"
      ],
      "execution_count": null,
      "outputs": [
        {
          "output_type": "execute_result",
          "data": {
            "text/plain": [
              "<Frame#7f7b6e9de780 10x31>"
            ],
            "text/html": [
              "<div class='datatable'>\n",
              "  <table class='frame'>\n",
              "  <thead>\n",
              "    <tr class='colnames'><td class='row_index'></td><th>Time</th><th>V1</th><th>V2</th><th>V3</th><th>V4</th><th>V5</th><th>V6</th><th>V7</th><th>V8</th><th>V9</th><th class='vellipsis'>&hellip;</th><th>V26</th><th>V27</th><th>V28</th><th>Amount</th><th>Class</th></tr>\n",
              "    <tr class='coltypes'><td class='row_index'></td><td class='float' title='float64'>&#x25AA;&#x25AA;&#x25AA;&#x25AA;&#x25AA;&#x25AA;&#x25AA;&#x25AA;</td><td class='float' title='float64'>&#x25AA;&#x25AA;&#x25AA;&#x25AA;&#x25AA;&#x25AA;&#x25AA;&#x25AA;</td><td class='float' title='float64'>&#x25AA;&#x25AA;&#x25AA;&#x25AA;&#x25AA;&#x25AA;&#x25AA;&#x25AA;</td><td class='float' title='float64'>&#x25AA;&#x25AA;&#x25AA;&#x25AA;&#x25AA;&#x25AA;&#x25AA;&#x25AA;</td><td class='float' title='float64'>&#x25AA;&#x25AA;&#x25AA;&#x25AA;&#x25AA;&#x25AA;&#x25AA;&#x25AA;</td><td class='float' title='float64'>&#x25AA;&#x25AA;&#x25AA;&#x25AA;&#x25AA;&#x25AA;&#x25AA;&#x25AA;</td><td class='float' title='float64'>&#x25AA;&#x25AA;&#x25AA;&#x25AA;&#x25AA;&#x25AA;&#x25AA;&#x25AA;</td><td class='float' title='float64'>&#x25AA;&#x25AA;&#x25AA;&#x25AA;&#x25AA;&#x25AA;&#x25AA;&#x25AA;</td><td class='float' title='float64'>&#x25AA;&#x25AA;&#x25AA;&#x25AA;&#x25AA;&#x25AA;&#x25AA;&#x25AA;</td><td class='float' title='float64'>&#x25AA;&#x25AA;&#x25AA;&#x25AA;&#x25AA;&#x25AA;&#x25AA;&#x25AA;</td><td></td><td class='float' title='float64'>&#x25AA;&#x25AA;&#x25AA;&#x25AA;&#x25AA;&#x25AA;&#x25AA;&#x25AA;</td><td class='float' title='float64'>&#x25AA;&#x25AA;&#x25AA;&#x25AA;&#x25AA;&#x25AA;&#x25AA;&#x25AA;</td><td class='float' title='float64'>&#x25AA;&#x25AA;&#x25AA;&#x25AA;&#x25AA;&#x25AA;&#x25AA;&#x25AA;</td><td class='float' title='float64'>&#x25AA;&#x25AA;&#x25AA;&#x25AA;&#x25AA;&#x25AA;&#x25AA;&#x25AA;</td><td class='bool' title='bool8'>&#x25AA;</td></tr>\n",
              "  </thead>\n",
              "  <tbody>\n",
              "    <tr><td class='row_index'>0</td><td>0</td><td>&minus;1.35981</td><td>&minus;0.0727812</td><td>2.53635</td><td>1.37816</td><td>&minus;0.338321</td><td>0.462388</td><td>0.239599</td><td>0.0986979</td><td>0.363787</td><td class=vellipsis>&hellip;</td><td>&minus;0.189115</td><td>0.133558</td><td>&minus;0.0210531</td><td>149.62</td><td>0</td></tr>\n",
              "    <tr><td class='row_index'>1</td><td>0</td><td>1.19186</td><td>0.266151</td><td>0.16648</td><td>0.448154</td><td>0.0600176</td><td>&minus;0.0823608</td><td>&minus;0.078803</td><td>0.0851017</td><td>&minus;0.255425</td><td class=vellipsis>&hellip;</td><td>0.125895</td><td>&minus;0.0089831</td><td>0.0147242</td><td>2.69</td><td>0</td></tr>\n",
              "    <tr><td class='row_index'>2</td><td>1</td><td>&minus;1.35835</td><td>&minus;1.34016</td><td>1.77321</td><td>0.37978</td><td>&minus;0.503198</td><td>1.8005</td><td>0.791461</td><td>0.247676</td><td>&minus;1.51465</td><td class=vellipsis>&hellip;</td><td>&minus;0.139097</td><td>&minus;0.0553528</td><td>&minus;0.0597518</td><td>378.66</td><td>0</td></tr>\n",
              "    <tr><td class='row_index'>3</td><td>1</td><td>&minus;0.966272</td><td>&minus;0.185226</td><td>1.79299</td><td>&minus;0.863291</td><td>&minus;0.0103089</td><td>1.2472</td><td>0.237609</td><td>0.377436</td><td>&minus;1.38702</td><td class=vellipsis>&hellip;</td><td>&minus;0.221929</td><td>0.0627228</td><td>0.0614576</td><td>123.5</td><td>0</td></tr>\n",
              "    <tr><td class='row_index'>4</td><td>2</td><td>&minus;1.15823</td><td>0.877737</td><td>1.54872</td><td>0.403034</td><td>&minus;0.407193</td><td>0.0959215</td><td>0.592941</td><td>&minus;0.270533</td><td>0.817739</td><td class=vellipsis>&hellip;</td><td>0.502292</td><td>0.219422</td><td>0.215153</td><td>69.99</td><td>0</td></tr>\n",
              "    <tr><td class='row_index'>5</td><td>2</td><td>&minus;0.425966</td><td>0.960523</td><td>1.14111</td><td>&minus;0.168252</td><td>0.420987</td><td>&minus;0.0297276</td><td>0.476201</td><td>0.260314</td><td>&minus;0.568671</td><td class=vellipsis>&hellip;</td><td>0.105915</td><td>0.253844</td><td>0.0810803</td><td>3.67</td><td>0</td></tr>\n",
              "    <tr><td class='row_index'>6</td><td>4</td><td>1.22966</td><td>0.141004</td><td>0.0453708</td><td>1.20261</td><td>0.191881</td><td>0.272708</td><td>&minus;0.005159</td><td>0.0812129</td><td>0.46496</td><td class=vellipsis>&hellip;</td><td>&minus;0.257237</td><td>0.0345074</td><td>0.00516777</td><td>4.99</td><td>0</td></tr>\n",
              "    <tr><td class='row_index'>7</td><td>7</td><td>&minus;0.644269</td><td>1.41796</td><td>1.07438</td><td>&minus;0.492199</td><td>0.948934</td><td>0.428118</td><td>1.12063</td><td>&minus;3.80786</td><td>0.615375</td><td class=vellipsis>&hellip;</td><td>&minus;0.0516343</td><td>&minus;1.20692</td><td>&minus;1.08534</td><td>40.8</td><td>0</td></tr>\n",
              "    <tr><td class='row_index'>8</td><td>7</td><td>&minus;0.894286</td><td>0.286157</td><td>&minus;0.113192</td><td>&minus;0.271526</td><td>2.6696</td><td>3.72182</td><td>0.370145</td><td>0.851084</td><td>&minus;0.392048</td><td class=vellipsis>&hellip;</td><td>&minus;0.384157</td><td>0.0117474</td><td>0.142404</td><td>93.2</td><td>0</td></tr>\n",
              "    <tr><td class='row_index'>9</td><td>9</td><td>&minus;0.338262</td><td>1.11959</td><td>1.04437</td><td>&minus;0.222187</td><td>0.499361</td><td>&minus;0.246761</td><td>0.651583</td><td>0.0695386</td><td>&minus;0.736727</td><td class=vellipsis>&hellip;</td><td>0.0941988</td><td>0.246219</td><td>0.0830756</td><td>3.68</td><td>0</td></tr>\n",
              "  </tbody>\n",
              "  </table>\n",
              "  <div class='footer'>\n",
              "    <div class='frame_dimensions'>10 rows &times; 31 columns</div>\n",
              "  </div>\n",
              "</div>\n"
            ]
          },
          "metadata": {
            "tags": []
          },
          "execution_count": 15
        }
      ]
    },
    {
      "cell_type": "code",
      "metadata": {
        "trusted": true,
        "id": "im92qP_f6d93",
        "outputId": "7707a1df-9cd1-41bc-fdc6-708b7d24eeec"
      },
      "source": [
        "print(df.names)"
      ],
      "execution_count": null,
      "outputs": [
        {
          "output_type": "stream",
          "text": [
            "('Time', 'V1', 'V2', 'V3', 'V4', 'V5', 'V6', 'V7', 'V8', 'V9', 'V10', 'V11', 'V12', 'V13', 'V14', 'V15', 'V16', 'V17', 'V18', 'V19', 'V20', 'V21', 'V22', 'V23', 'V24', 'V25', 'V26', 'V27', 'V28', 'Amount', 'Class')\n"
          ],
          "name": "stdout"
        }
      ]
    },
    {
      "cell_type": "code",
      "metadata": {
        "trusted": true,
        "id": "Bp-d-gcR6d-C",
        "outputId": "70c82727-2cd8-4929-f0a7-b614c0483cc4"
      },
      "source": [
        "print(df.stypes)  # column types"
      ],
      "execution_count": null,
      "outputs": [
        {
          "output_type": "stream",
          "text": [
            "(stype.float64, stype.float64, stype.float64, stype.float64, stype.float64, stype.float64, stype.float64, stype.float64, stype.float64, stype.float64, stype.float64, stype.float64, stype.float64, stype.float64, stype.float64, stype.float64, stype.float64, stype.float64, stype.float64, stype.float64, stype.float64, stype.float64, stype.float64, stype.float64, stype.float64, stype.float64, stype.float64, stype.float64, stype.float64, stype.float64, stype.bool8)\n"
          ],
          "name": "stdout"
        }
      ]
    },
    {
      "cell_type": "code",
      "metadata": {
        "trusted": true,
        "id": "2DHxYGIV6d-J",
        "outputId": "12afed98-7757-4d32-933c-1679308e03c3"
      },
      "source": [
        "print(df.to_numpy())\n"
      ],
      "execution_count": null,
      "outputs": [
        {
          "output_type": "stream",
          "text": [
            "[[ 0.00000000e+00 -1.35980713e+00 -7.27811733e-02 ... -2.10530535e-02\n",
            "   1.49620000e+02  0.00000000e+00]\n",
            " [ 0.00000000e+00  1.19185711e+00  2.66150712e-01 ...  1.47241692e-02\n",
            "   2.69000000e+00  0.00000000e+00]\n",
            " [ 1.00000000e+00 -1.35835406e+00 -1.34016307e+00 ... -5.97518406e-02\n",
            "   3.78660000e+02  0.00000000e+00]\n",
            " ...\n",
            " [ 1.72788000e+05  1.91956501e+00 -3.01253846e-01 ... -2.65608286e-02\n",
            "   6.78800000e+01  0.00000000e+00]\n",
            " [ 1.72788000e+05 -2.40440050e-01  5.30482513e-01 ...  1.04532821e-01\n",
            "   1.00000000e+01  0.00000000e+00]\n",
            " [ 1.72792000e+05 -5.33412522e-01 -1.89733337e-01 ...  1.36489143e-02\n",
            "   2.17000000e+02  0.00000000e+00]]\n"
          ],
          "name": "stdout"
        }
      ]
    },
    {
      "cell_type": "code",
      "metadata": {
        "trusted": true,
        "id": "29ABnPR_6d-P",
        "outputId": "0b9db9ef-5fa9-479f-e4a0-b6a4d865e01d"
      },
      "source": [
        "start = time.time()\n",
        "df.sort(\"Amount\")\n",
        "end = time.time()\n",
        "print(end - start)"
      ],
      "execution_count": null,
      "outputs": [
        {
          "output_type": "stream",
          "text": [
            "0.03646421432495117\n"
          ],
          "name": "stdout"
        }
      ]
    },
    {
      "cell_type": "code",
      "metadata": {
        "trusted": true,
        "id": "GG0I51cO6d-U",
        "outputId": "1f309144-654b-429c-a410-4317340d7d7a"
      },
      "source": [
        "start = time.time()\n",
        "pandas_df.sort_values(by=\"Amount\")\n",
        "end = time.time()\n",
        "print(end - start)"
      ],
      "execution_count": null,
      "outputs": [
        {
          "output_type": "stream",
          "text": [
            "0.14470458030700684\n"
          ],
          "name": "stdout"
        }
      ]
    },
    {
      "cell_type": "code",
      "metadata": {
        "trusted": true,
        "id": "uM1JGZwB6d-Z",
        "outputId": "291653d6-7252-4c2e-bc86-c6e8c2d88e25"
      },
      "source": [
        "start = time.time()\n",
        "for i in range(500):\n",
        "    df[:, dt.sum(dt.f.Amount), dt.by(dt.f.V1)]\n",
        "end = time.time()\n",
        "print(end - start)"
      ],
      "execution_count": null,
      "outputs": [
        {
          "output_type": "stream",
          "text": [
            "16.062947988510132\n"
          ],
          "name": "stdout"
        }
      ]
    },
    {
      "cell_type": "code",
      "metadata": {
        "trusted": true,
        "id": "Gd0Vgqth6d-f",
        "outputId": "436a0c57-8fc6-4f10-e41f-d284953f697e"
      },
      "source": [
        "start = time.time()\n",
        "for i in range(500):\n",
        "    pandas_df.groupby(\"V1\")[\"Amount\"].sum()\n",
        "end = time.time()\n",
        "print(end - start)"
      ],
      "execution_count": null,
      "outputs": [
        {
          "output_type": "stream",
          "text": [
            "48.4233283996582\n"
          ],
          "name": "stdout"
        }
      ]
    },
    {
      "cell_type": "code",
      "metadata": {
        "trusted": true,
        "id": "_e7Jb0ma6d-k",
        "outputId": "19298954-ebb7-44b2-d346-2dfa24139b09"
      },
      "source": [
        "df.to_jay(\"out.jay\")\n",
        "DT2 = dt.open(\"out.jay\")"
      ],
      "execution_count": null,
      "outputs": [
        {
          "output_type": "stream",
          "text": [
            "/opt/conda/lib/python3.7/site-packages/datatable/__init__.py:163: FutureWarning: Function dt.open() is deprecated since 0.10.0, and will be removed in version 1.0.\n",
            "Please use dt.fread(file), or dt.Frame(file) instead\n",
            "  category=FutureWarning)\n"
          ],
          "name": "stderr"
        }
      ]
    },
    {
      "cell_type": "code",
      "metadata": {
        "trusted": true,
        "id": "K7kbs8Iw6d-v"
      },
      "source": [
        "df.to_csv(\"out.csv\")"
      ],
      "execution_count": null,
      "outputs": []
    },
    {
      "cell_type": "code",
      "metadata": {
        "trusted": true,
        "id": "viGrssFm6d-0"
      },
      "source": [
        "del df[:, 'V27']"
      ],
      "execution_count": null,
      "outputs": []
    },
    {
      "cell_type": "code",
      "metadata": {
        "trusted": true,
        "id": "zvHhOWX06d-5"
      },
      "source": [
        ""
      ],
      "execution_count": null,
      "outputs": []
    }
  ]
}