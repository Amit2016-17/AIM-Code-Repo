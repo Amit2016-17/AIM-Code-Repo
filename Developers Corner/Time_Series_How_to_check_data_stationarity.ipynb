{
  "nbformat": 4,
  "nbformat_minor": 0,
  "metadata": {
    "colab": {
      "name": "Time_Series_How_to_check_data_stationarity.ipynb",
      "provenance": []
    },
    "kernelspec": {
      "name": "python3",
      "display_name": "Python 3"
    }
  },
  "cells": [
    {
      "cell_type": "code",
      "metadata": {
        "id": "gn59nFL4OuIA",
        "outputId": "e7b24901-bbdb-494a-f147-aaaf46e26e14",
        "colab": {
          "base_uri": "https://localhost:8080/",
          "height": 35
        }
      },
      "source": [
        "# Mounting drive\n",
        "from google.colab import drive\n",
        "drive.mount('/content/drive')"
      ],
      "execution_count": null,
      "outputs": [
        {
          "output_type": "stream",
          "text": [
            "Mounted at /content/drive\n"
          ],
          "name": "stdout"
        }
      ]
    },
    {
      "cell_type": "code",
      "metadata": {
        "id": "3hgHtvNCPA77"
      },
      "source": [
        "#Path to directory\n",
        "import os\n",
        "os.chdir('/content/drive/My Drive/AIM')"
      ],
      "execution_count": null,
      "outputs": []
    },
    {
      "cell_type": "code",
      "metadata": {
        "id": "jnDkloLJPVHb",
        "outputId": "8b0a1373-f45b-4968-ec80-eb8c4de04c4d",
        "colab": {
          "base_uri": "https://localhost:8080/",
          "height": 89
        }
      },
      "source": [
        "#Importing Train Dataset\n",
        "import pandas as pd\n",
        "import numpy as np\n",
        "import matplotlib.pyplot as plt\n",
        "import statsmodels.api as sm\n",
        "from statsmodels.tsa.stattools import adfuller\n",
        "train = pd.read_csv(\"Electric_Production.csv\")\n",
        "train.shape"
      ],
      "execution_count": null,
      "outputs": [
        {
          "output_type": "stream",
          "text": [
            "/usr/local/lib/python3.6/dist-packages/statsmodels/tools/_testing.py:19: FutureWarning: pandas.util.testing is deprecated. Use the functions in the public API at pandas.testing instead.\n",
            "  import pandas.util.testing as tm\n"
          ],
          "name": "stderr"
        },
        {
          "output_type": "execute_result",
          "data": {
            "text/plain": [
              "(397, 2)"
            ]
          },
          "metadata": {
            "tags": []
          },
          "execution_count": 4
        }
      ]
    },
    {
      "cell_type": "code",
      "metadata": {
        "id": "RLPVmLQ4P5rt",
        "outputId": "395c5406-7ccd-41b2-e7d8-f4180505f002",
        "colab": {
          "base_uri": "https://localhost:8080/",
          "height": 355
        }
      },
      "source": [
        "#Display 10 values\n",
        "train.head(10)"
      ],
      "execution_count": null,
      "outputs": [
        {
          "output_type": "execute_result",
          "data": {
            "text/html": [
              "<div>\n",
              "<style scoped>\n",
              "    .dataframe tbody tr th:only-of-type {\n",
              "        vertical-align: middle;\n",
              "    }\n",
              "\n",
              "    .dataframe tbody tr th {\n",
              "        vertical-align: top;\n",
              "    }\n",
              "\n",
              "    .dataframe thead th {\n",
              "        text-align: right;\n",
              "    }\n",
              "</style>\n",
              "<table border=\"1\" class=\"dataframe\">\n",
              "  <thead>\n",
              "    <tr style=\"text-align: right;\">\n",
              "      <th></th>\n",
              "      <th>DATE</th>\n",
              "      <th>Value</th>\n",
              "    </tr>\n",
              "  </thead>\n",
              "  <tbody>\n",
              "    <tr>\n",
              "      <th>0</th>\n",
              "      <td>01-01-1985</td>\n",
              "      <td>72.5052</td>\n",
              "    </tr>\n",
              "    <tr>\n",
              "      <th>1</th>\n",
              "      <td>02-01-1985</td>\n",
              "      <td>70.6720</td>\n",
              "    </tr>\n",
              "    <tr>\n",
              "      <th>2</th>\n",
              "      <td>03-01-1985</td>\n",
              "      <td>62.4502</td>\n",
              "    </tr>\n",
              "    <tr>\n",
              "      <th>3</th>\n",
              "      <td>04-01-1985</td>\n",
              "      <td>57.4714</td>\n",
              "    </tr>\n",
              "    <tr>\n",
              "      <th>4</th>\n",
              "      <td>05-01-1985</td>\n",
              "      <td>55.3151</td>\n",
              "    </tr>\n",
              "    <tr>\n",
              "      <th>5</th>\n",
              "      <td>06-01-1985</td>\n",
              "      <td>58.0904</td>\n",
              "    </tr>\n",
              "    <tr>\n",
              "      <th>6</th>\n",
              "      <td>07-01-1985</td>\n",
              "      <td>62.6202</td>\n",
              "    </tr>\n",
              "    <tr>\n",
              "      <th>7</th>\n",
              "      <td>08-01-1985</td>\n",
              "      <td>63.2485</td>\n",
              "    </tr>\n",
              "    <tr>\n",
              "      <th>8</th>\n",
              "      <td>09-01-1985</td>\n",
              "      <td>60.5846</td>\n",
              "    </tr>\n",
              "    <tr>\n",
              "      <th>9</th>\n",
              "      <td>10-01-1985</td>\n",
              "      <td>56.3154</td>\n",
              "    </tr>\n",
              "  </tbody>\n",
              "</table>\n",
              "</div>"
            ],
            "text/plain": [
              "         DATE    Value\n",
              "0  01-01-1985  72.5052\n",
              "1  02-01-1985  70.6720\n",
              "2  03-01-1985  62.4502\n",
              "3  04-01-1985  57.4714\n",
              "4  05-01-1985  55.3151\n",
              "5  06-01-1985  58.0904\n",
              "6  07-01-1985  62.6202\n",
              "7  08-01-1985  63.2485\n",
              "8  09-01-1985  60.5846\n",
              "9  10-01-1985  56.3154"
            ]
          },
          "metadata": {
            "tags": []
          },
          "execution_count": 5
        }
      ]
    },
    {
      "cell_type": "markdown",
      "metadata": {
        "id": "uEDEggOI60Hv"
      },
      "source": [
        "**Visual Test**"
      ]
    },
    {
      "cell_type": "code",
      "metadata": {
        "id": "nugq9eb9RAXE",
        "outputId": "7d0d45b9-4f2f-4758-e4dc-d12de08c8509",
        "colab": {
          "base_uri": "https://localhost:8080/",
          "height": 283
        }
      },
      "source": [
        "#Plot the Graph\n",
        "plt.plot(train[\"Value\"],color=\"lightblue\")"
      ],
      "execution_count": null,
      "outputs": [
        {
          "output_type": "execute_result",
          "data": {
            "text/plain": [
              "[<matplotlib.lines.Line2D at 0x7f1ba0199438>]"
            ]
          },
          "metadata": {
            "tags": []
          },
          "execution_count": 6
        },
        {
          "output_type": "display_data",
          "data": {
            "image/png": "[encoded data removed]",
            "text/plain": [
              "<Figure size 432x288 with 1 Axes>"
            ]
          },
          "metadata": {
            "tags": [],
            "needs_background": "light"
          }
        }
      ]
    },
    {
      "cell_type": "code",
      "metadata": {
        "id": "mWnHT4XfYhEK",
        "outputId": "83be7928-2483-4978-e1f3-c2edc8f35531",
        "colab": {
          "base_uri": "https://localhost:8080/",
          "height": 335
        }
      },
      "source": [
        "#Plot the Histogram\n",
        "plt.hist(train[\"Value\"],color=\"lightblue\")"
      ],
      "execution_count": null,
      "outputs": [
        {
          "output_type": "execute_result",
          "data": {
            "text/plain": [
              "(array([20., 36., 48., 46., 82., 61., 49., 41., 12.,  2.]),\n",
              " array([ 55.3151 ,  62.72407,  70.13304,  77.54201,  84.95098,  92.35995,\n",
              "         99.76892, 107.17789, 114.58686, 121.99583, 129.4048 ]),\n",
              " <a list of 10 Patch objects>)"
            ]
          },
          "metadata": {
            "tags": []
          },
          "execution_count": 7
        },
        {
          "output_type": "display_data",
          "data": {
            "image/png": "[encoded data removed]",
            "text/plain": [
              "<Figure size 432x288 with 1 Axes>"
            ]
          },
          "metadata": {
            "tags": [],
            "needs_background": "light"
          }
        }
      ]
    },
    {
      "cell_type": "markdown",
      "metadata": {
        "id": "nmzHV-zV6_Kd"
      },
      "source": [
        "**Summary Statistics**"
      ]
    },
    {
      "cell_type": "code",
      "metadata": {
        "id": "UCRh5Ux0ZvuW"
      },
      "source": [
        "#Split the data\n",
        "train_1=train[0:199]\n",
        "train_2=train[200:397]"
      ],
      "execution_count": null,
      "outputs": []
    },
    {
      "cell_type": "code",
      "metadata": {
        "id": "kkpCYwx_aDnu",
        "outputId": "7c1e4c74-0c28-4571-9d2e-3d61de9547d2",
        "colab": {
          "base_uri": "https://localhost:8080/",
          "height": 52
        }
      },
      "source": [
        "#Mean of data\n",
        "train_1.mean()"
      ],
      "execution_count": null,
      "outputs": [
        {
          "output_type": "execute_result",
          "data": {
            "text/plain": [
              "Value    77.497413\n",
              "dtype: float64"
            ]
          },
          "metadata": {
            "tags": []
          },
          "execution_count": 9
        }
      ]
    },
    {
      "cell_type": "code",
      "metadata": {
        "id": "NZJgavhDaIwL",
        "outputId": "241b5094-e7ea-46d0-8f10-73a88363d9ba",
        "colab": {
          "base_uri": "https://localhost:8080/",
          "height": 52
        }
      },
      "source": [
        "train_2.mean()"
      ],
      "execution_count": null,
      "outputs": [
        {
          "output_type": "execute_result",
          "data": {
            "text/plain": [
              "Value    100.257903\n",
              "dtype: float64"
            ]
          },
          "metadata": {
            "tags": []
          },
          "execution_count": 10
        }
      ]
    },
    {
      "cell_type": "code",
      "metadata": {
        "id": "GB-QdQZ5aNH3",
        "outputId": "1638339d-343e-4761-cba7-fba61b8eb83d",
        "colab": {
          "base_uri": "https://localhost:8080/",
          "height": 52
        }
      },
      "source": [
        "#Variance of data\n",
        "train_1.var()"
      ],
      "execution_count": null,
      "outputs": [
        {
          "output_type": "execute_result",
          "data": {
            "text/plain": [
              "Value    123.225819\n",
              "dtype: float64"
            ]
          },
          "metadata": {
            "tags": []
          },
          "execution_count": 11
        }
      ]
    },
    {
      "cell_type": "code",
      "metadata": {
        "id": "vIH7rfEAaQ8Y",
        "outputId": "d887ca3c-fd7a-46ab-b6c9-90c1c5cd8f43",
        "colab": {
          "base_uri": "https://localhost:8080/",
          "height": 52
        }
      },
      "source": [
        "train_2.var()"
      ],
      "execution_count": null,
      "outputs": [
        {
          "output_type": "execute_result",
          "data": {
            "text/plain": [
              "Value    91.677346\n",
              "dtype: float64"
            ]
          },
          "metadata": {
            "tags": []
          },
          "execution_count": 12
        }
      ]
    },
    {
      "cell_type": "markdown",
      "metadata": {
        "id": "q78GIVXY7NTq"
      },
      "source": [
        "**Augmentated Dicky Fuller Test**"
      ]
    },
    {
      "cell_type": "code",
      "metadata": {
        "id": "PAYy_evQTbiA",
        "outputId": "76c12c4f-67b1-4947-984e-65e4606eed3d",
        "colab": {
          "base_uri": "https://localhost:8080/",
          "height": 139
        }
      },
      "source": [
        "t = train[\"Value\"].values\n",
        "timeseries = adfuller(t)\n",
        "print('ADF Statistic: %f' % timeseries[0])\n",
        "print('p-value: %f' % timeseries[1])\n",
        "print('Critical Values:')\n",
        "for key, value in timeseries[4].items():\n",
        "    print('\\t%s: %.3f' % (key, value))\n",
        "\n",
        "if timeseries[0] > timeseries[4][\"5%\"]:\n",
        "    print (\"Failed to Reject Ho - Time Series is Non-Stationary\")\n",
        "else:\n",
        "    print (\"Reject Ho - Time Series is Stationary\")"
      ],
      "execution_count": null,
      "outputs": [
        {
          "output_type": "stream",
          "text": [
            "ADF Statistic: -2.256990\n",
            "p-value: 0.186215\n",
            "Critical Values:\n",
            "\t1%: -3.448\n",
            "\t5%: -2.869\n",
            "\t10%: -2.571\n",
            "Failed to Reject Ho - Time Series is Non-Stationary\n"
          ],
          "name": "stdout"
        }
      ]
    }
  ]
}