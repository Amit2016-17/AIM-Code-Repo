{
  "nbformat": 4,
  "nbformat_minor": 0,
  "metadata": {
    "colab": {
      "name": "Cohens_Kappa.ipynb",
      "provenance": [],
      "collapsed_sections": []
    },
    "kernelspec": {
      "name": "python3",
      "display_name": "Python 3"
    }
  },
  "cells": [
    {
      "cell_type": "code",
      "metadata": {
        "id": "WdQL5IbAabEb"
      },
      "source": [
        "r1=['yes','no','yes','no','yes','no','yes','no','yes']\n",
        "r2=['yes','yes','yes','no','no','no','yes','yes','yes']"
      ],
      "execution_count": 1,
      "outputs": []
    },
    {
      "cell_type": "code",
      "metadata": {
        "id": "FVAUJrGmaeye",
        "outputId": "06ef2dd8-7a91-444a-b173-01f7163e07b0",
        "colab": {
          "base_uri": "https://localhost:8080/",
          "height": 34
        }
      },
      "source": [
        "from sklearn.metrics import cohen_kappa_score\n",
        "cohen_kappa_score(r1,r2)"
      ],
      "execution_count": 2,
      "outputs": [
        {
          "output_type": "execute_result",
          "data": {
            "text/plain": [
              "0.3076923076923076"
            ]
          },
          "metadata": {
            "tags": []
          },
          "execution_count": 2
        }
      ]
    },
    {
      "cell_type": "code",
      "metadata": {
        "id": "mwdCRxNJar63",
        "outputId": "3868ab7a-6e30-4325-9f4f-ccf3220372da",
        "colab": {
          "base_uri": "https://localhost:8080/",
          "height": 34
        }
      },
      "source": [
        "r1=['yes']*9\n",
        "r2=['no']*9\n",
        "\n",
        "cohen_kappa_score(r1,r2)"
      ],
      "execution_count": 3,
      "outputs": [
        {
          "output_type": "execute_result",
          "data": {
            "text/plain": [
              "0.0"
            ]
          },
          "metadata": {
            "tags": []
          },
          "execution_count": 3
        }
      ]
    },
    {
      "cell_type": "code",
      "metadata": {
        "id": "kuBqqkzca1_g",
        "outputId": "e352dd4b-69c9-4889-9614-7e86ccb17853",
        "colab": {
          "base_uri": "https://localhost:8080/",
          "height": 34
        }
      },
      "source": [
        "r1=['yes','yes','no','no','yes','yes','no','no','yes']\n",
        "r2=['yes','yes','yes','no','no','no','yes','yes','yes']\n",
        "\n",
        "cohen_kappa_score(r1,r2)"
      ],
      "execution_count": 4,
      "outputs": [
        {
          "output_type": "execute_result",
          "data": {
            "text/plain": [
              "-0.15384615384615397"
            ]
          },
          "metadata": {
            "tags": []
          },
          "execution_count": 4
        }
      ]
    }
  ]
}