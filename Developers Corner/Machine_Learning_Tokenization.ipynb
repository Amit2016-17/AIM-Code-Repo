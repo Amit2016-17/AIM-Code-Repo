{
  "nbformat": 4,
  "nbformat_minor": 0,
  "metadata": {
    "colab": {
      "name": "Machine Learning Tokenization.ipynb",
      "provenance": []
    },
    "kernelspec": {
      "name": "python3",
      "display_name": "Python 3"
    }
  },
  "cells": [
    {
      "cell_type": "code",
      "metadata": {
        "id": "JLi2jLAN2FZY",
        "outputId": "16a25852-8564-442a-ddca-1057b240cb37",
        "colab": {
          "base_uri": "https://localhost:8080/",
          "height": 35
        }
      },
      "source": [
        "# Mounting drive\n",
        "from google.colab import drive\n",
        "drive.mount('/content/drive')"
      ],
      "execution_count": null,
      "outputs": [
        {
          "output_type": "stream",
          "text": [
            "Mounted at /content/drive\n"
          ],
          "name": "stdout"
        }
      ]
    },
    {
      "cell_type": "code",
      "metadata": {
        "id": "YmbuSBu52HIp"
      },
      "source": [
        "#Path to directory\n",
        "import os\n",
        "os.chdir('/content/drive/My Drive/NLP Project')"
      ],
      "execution_count": null,
      "outputs": []
    },
    {
      "cell_type": "markdown",
      "metadata": {
        "id": "GIhNaXW_GeA-"
      },
      "source": [
        "**Tokenize Words Using NLTK**"
      ]
    },
    {
      "cell_type": "code",
      "metadata": {
        "id": "sdcia1ur3pKQ",
        "outputId": "ec3a337b-a201-4b5a-c8bc-edab53871b45",
        "colab": {
          "base_uri": "https://localhost:8080/",
          "height": 243
        }
      },
      "source": [
        "#Tokenize words\n",
        "from nltk.tokenize import word_tokenize \n",
        "  \n",
        "text = \"Machine learning is a method of data analysis that automates analytical model building\"\n",
        "word_tokenize(text) "
      ],
      "execution_count": null,
      "outputs": [
        {
          "output_type": "execute_result",
          "data": {
            "text/plain": [
              "['Machine',\n",
              " 'learning',\n",
              " 'is',\n",
              " 'a',\n",
              " 'method',\n",
              " 'of',\n",
              " 'data',\n",
              " 'analysis',\n",
              " 'that',\n",
              " 'automates',\n",
              " 'analytical',\n",
              " 'model',\n",
              " 'building']"
            ]
          },
          "metadata": {
            "tags": []
          },
          "execution_count": 21
        }
      ]
    },
    {
      "cell_type": "code",
      "metadata": {
        "id": "iqT-AW09XPr5",
        "outputId": "0d9cd5d9-ae88-4e4d-f905-b1055e516dce",
        "colab": {
          "base_uri": "https://localhost:8080/",
          "height": 69
        }
      },
      "source": [
        "#Tokenize words of different words\n",
        "import nltk\n",
        "nltk.download('punkt')\n",
        "import nltk.data \n",
        "  \n",
        "spanish_tokenizer = nltk.data.load('tokenizers/punkt/PY3/spanish.pickle') \n",
        "  \n",
        "text = 'Hola amigo. Me llamo Ankit.'\n",
        "spanish_tokenizer.tokenize(text)"
      ],
      "execution_count": null,
      "outputs": [
        {
          "output_type": "stream",
          "text": [
            "[nltk_data] Downloading package punkt to /root/nltk_data...\n",
            "[nltk_data]   Package punkt is already up-to-date!\n"
          ],
          "name": "stdout"
        },
        {
          "output_type": "execute_result",
          "data": {
            "text/plain": [
              "['Hola amigo.', 'Me llamo Ankit.']"
            ]
          },
          "metadata": {
            "tags": []
          },
          "execution_count": 55
        }
      ]
    },
    {
      "cell_type": "code",
      "metadata": {
        "id": "NJ3nR0VrXaWx",
        "outputId": "1d084103-3135-4b85-c707-063960e148d3",
        "colab": {
          "base_uri": "https://localhost:8080/",
          "height": 72
        }
      },
      "source": [
        "#Tokenize Sentence\n",
        "from nltk.tokenize import sent_tokenize \n",
        "  \n",
        "text = \"Machine learning is a method of data analysis that automates analytical model building. It is a branch of artificial intelligence based on the idea that systems can learn from data, identify patterns and make decisions with minimal human intervention.\"\n",
        "sent_tokenize(text) "
      ],
      "execution_count": null,
      "outputs": [
        {
          "output_type": "execute_result",
          "data": {
            "text/plain": [
              "['Machine learning is a method of data analysis that automates analytical model building.',\n",
              " 'It is a branch of artificial intelligence based on the idea that systems can learn from data, identify patterns and make decisions with minimal human intervention.']"
            ]
          },
          "metadata": {
            "tags": []
          },
          "execution_count": 50
        }
      ]
    },
    {
      "cell_type": "markdown",
      "metadata": {
        "id": "SEDj3oqQGPaj"
      },
      "source": [
        "**Regular Expression**"
      ]
    },
    {
      "cell_type": "code",
      "metadata": {
        "id": "1g13UtoA4Fcy",
        "outputId": "c34e04ef-2827-456d-d0a8-69ec202e8a62",
        "colab": {
          "base_uri": "https://localhost:8080/",
          "height": 243
        }
      },
      "source": [
        "from nltk.tokenize import RegexpTokenizer \n",
        "  \n",
        "tokenizer = RegexpTokenizer(\"[\\w']+\") \n",
        "text = \"Machine learning is a method of data analysis that automates analytical model building\"\n",
        "tokenizer.tokenize(text)"
      ],
      "execution_count": null,
      "outputs": [
        {
          "output_type": "execute_result",
          "data": {
            "text/plain": [
              "['Machine',\n",
              " 'learning',\n",
              " 'is',\n",
              " 'a',\n",
              " 'method',\n",
              " 'of',\n",
              " 'data',\n",
              " 'analysis',\n",
              " 'that',\n",
              " 'automates',\n",
              " 'analytical',\n",
              " 'model',\n",
              " 'building']"
            ]
          },
          "metadata": {
            "tags": []
          },
          "execution_count": 17
        }
      ]
    },
    {
      "cell_type": "code",
      "metadata": {
        "id": "83vWqD4FGmMW",
        "outputId": "4c66caff-35f2-43c0-fe0d-d3beb7308806",
        "colab": {
          "base_uri": "https://localhost:8080/",
          "height": 72
        }
      },
      "source": [
        "#Split Sentences\n",
        "import re\n",
        "text = \"\"\"Machine learning is a method of data analysis that automates analytical model building. It is a branch of artificial intelligence based on the idea that systems can learn from data, identify patterns and make decisions with minimal human intervention.\"\"\"\n",
        "sentences = re.compile('[.!?] ').split(text)\n",
        "sentences"
      ],
      "execution_count": null,
      "outputs": [
        {
          "output_type": "execute_result",
          "data": {
            "text/plain": [
              "['Machine learning is a method of data analysis that automates analytical model building',\n",
              " 'It is a branch of artificial intelligence based on the idea that systems can learn from data, identify patterns and make decisions with minimal human intervention.']"
            ]
          },
          "metadata": {
            "tags": []
          },
          "execution_count": 16
        }
      ]
    },
    {
      "cell_type": "markdown",
      "metadata": {
        "id": "Q0hW3IPmJ0ik"
      },
      "source": [
        "**Split()**"
      ]
    },
    {
      "cell_type": "code",
      "metadata": {
        "id": "BOK53CddJ3sn",
        "outputId": "68057c5e-099b-485b-c1fb-5c4f825d8624",
        "colab": {
          "base_uri": "https://localhost:8080/",
          "height": 243
        }
      },
      "source": [
        "text = \"\"\"Machine learning is a method of data analysis that automates analytical model building\"\"\"\n",
        "# Splits at space \n",
        "text.split()"
      ],
      "execution_count": null,
      "outputs": [
        {
          "output_type": "execute_result",
          "data": {
            "text/plain": [
              "['Machine',\n",
              " 'learning',\n",
              " 'is',\n",
              " 'a',\n",
              " 'method',\n",
              " 'of',\n",
              " 'data',\n",
              " 'analysis',\n",
              " 'that',\n",
              " 'automates',\n",
              " 'analytical',\n",
              " 'model',\n",
              " 'building']"
            ]
          },
          "metadata": {
            "tags": []
          },
          "execution_count": 23
        }
      ]
    },
    {
      "cell_type": "code",
      "metadata": {
        "id": "TuxdtMreKp4c",
        "outputId": "70524a83-dc2d-479c-e371-2abcdee5ae1f",
        "colab": {
          "base_uri": "https://localhost:8080/",
          "height": 89
        }
      },
      "source": [
        "#Split Sentence\n",
        "text = \"\"\"Machine learning is a method of data analysis that automates analytical model building.It is a branch of artificial intelligence based on the idea that systems can learn from data, identify patterns and make decisions with minimal human intervention.\"\"\"\n",
        "# Splits at space \n",
        "text.split('.')"
      ],
      "execution_count": null,
      "outputs": [
        {
          "output_type": "execute_result",
          "data": {
            "text/plain": [
              "['Machine learning is a method of data analysis that automates analytical model building',\n",
              " 'It is a branch of artificial intelligence based on the idea that systems can learn from data, identify patterns and make decisions with minimal human intervention',\n",
              " '']"
            ]
          },
          "metadata": {
            "tags": []
          },
          "execution_count": 41
        }
      ]
    },
    {
      "cell_type": "markdown",
      "metadata": {
        "id": "se5tFO26SYW7"
      },
      "source": [
        "**Spacy**"
      ]
    },
    {
      "cell_type": "code",
      "metadata": {
        "id": "8z6GfDTeKIqA"
      },
      "source": [
        "import spacy"
      ],
      "execution_count": null,
      "outputs": []
    },
    {
      "cell_type": "code",
      "metadata": {
        "id": "8b8gr7w1Sl24"
      },
      "source": [
        "sp = spacy.load('en_core_web_sm')"
      ],
      "execution_count": null,
      "outputs": []
    },
    {
      "cell_type": "code",
      "metadata": {
        "id": "dIfShMhZStII",
        "outputId": "4a9d37a1-a440-4882-ecf9-be7bbee9f76a",
        "colab": {
          "base_uri": "https://localhost:8080/",
          "height": 35
        }
      },
      "source": [
        "sentence = sp(u'Machine learning is a method of data analysis that automates analytical model building.')\n",
        "print(sentence)"
      ],
      "execution_count": null,
      "outputs": [
        {
          "output_type": "stream",
          "text": [
            "Machine learning is a method of data analysis that automates analytical model building.\n"
          ],
          "name": "stdout"
        }
      ]
    },
    {
      "cell_type": "code",
      "metadata": {
        "id": "4Jk6fk8aTJ2F",
        "outputId": "7d2e3dff-f130-411c-81a9-ba307db7b131",
        "colab": {
          "base_uri": "https://localhost:8080/",
          "height": 260
        }
      },
      "source": [
        "L=[]\n",
        "for word in sentence:\n",
        "    L.append(word)\n",
        "L"
      ],
      "execution_count": null,
      "outputs": [
        {
          "output_type": "execute_result",
          "data": {
            "text/plain": [
              "[Machine,\n",
              " learning,\n",
              " is,\n",
              " a,\n",
              " method,\n",
              " of,\n",
              " data,\n",
              " analysis,\n",
              " that,\n",
              " automates,\n",
              " analytical,\n",
              " model,\n",
              " building,\n",
              " .]"
            ]
          },
          "metadata": {
            "tags": []
          },
          "execution_count": 36
        }
      ]
    },
    {
      "cell_type": "code",
      "metadata": {
        "id": "56wLvvj-UTZ0",
        "outputId": "ac6be848-8b37-4714-9e18-ca14614d6b48",
        "colab": {
          "base_uri": "https://localhost:8080/",
          "height": 55
        }
      },
      "source": [
        "#Split Sentences\n",
        "sentence = sp(u'Machine learning is a method of data analysis that automates analytical model building.It is a branch of artificial intelligence based on the idea that systems can learn from data, identify patterns and make decisions with minimal human intervention.')\n",
        "print(sentence)"
      ],
      "execution_count": null,
      "outputs": [
        {
          "output_type": "stream",
          "text": [
            "Machine learning is a method of data analysis that automates analytical model building.It is a branch of artificial intelligence based on the idea that systems can learn from data, identify patterns and make decisions with minimal human intervention.\n"
          ],
          "name": "stdout"
        }
      ]
    },
    {
      "cell_type": "code",
      "metadata": {
        "id": "mVziDOtkUJrB",
        "outputId": "5ac05960-bce9-44a2-cbc8-138bab980cc6",
        "colab": {
          "base_uri": "https://localhost:8080/",
          "height": 72
        }
      },
      "source": [
        "x = []\n",
        "for sent in sentence.sents:\n",
        "    x.append(sent.text)\n",
        "x"
      ],
      "execution_count": null,
      "outputs": [
        {
          "output_type": "execute_result",
          "data": {
            "text/plain": [
              "['Machine learning is a method of data analysis that automates analytical model building.',\n",
              " 'It is a branch of artificial intelligence based on the idea that systems can learn from data, identify patterns and make decisions with minimal human intervention.']"
            ]
          },
          "metadata": {
            "tags": []
          },
          "execution_count": 49
        }
      ]
    },
    {
      "cell_type": "markdown",
      "metadata": {
        "id": "udgBGnQTVxjG"
      },
      "source": [
        "**Gensim**"
      ]
    },
    {
      "cell_type": "code",
      "metadata": {
        "id": "FhDmyNC0Vz5o",
        "outputId": "1bb909fe-c0a0-45de-88c7-17ba8ef42c21",
        "colab": {
          "base_uri": "https://localhost:8080/",
          "height": 364
        }
      },
      "source": [
        "from gensim.utils import tokenize\n",
        "text = \"\"\"Artificial intelligence,the ability of a digital computer or computer-controlled robot to perform tasks commonly associated with intelligent beings.\"\"\"\n",
        "list(tokenize(text))"
      ],
      "execution_count": null,
      "outputs": [
        {
          "output_type": "execute_result",
          "data": {
            "text/plain": [
              "['Artificial',\n",
              " 'intelligence',\n",
              " 'the',\n",
              " 'ability',\n",
              " 'of',\n",
              " 'a',\n",
              " 'digital',\n",
              " 'computer',\n",
              " 'or',\n",
              " 'computer',\n",
              " 'controlled',\n",
              " 'robot',\n",
              " 'to',\n",
              " 'perform',\n",
              " 'tasks',\n",
              " 'commonly',\n",
              " 'associated',\n",
              " 'with',\n",
              " 'intelligent',\n",
              " 'beings']"
            ]
          },
          "metadata": {
            "tags": []
          },
          "execution_count": 46
        }
      ]
    },
    {
      "cell_type": "code",
      "metadata": {
        "id": "Muynb-07WQ4v",
        "outputId": "b981d58e-e2a1-4c56-d3ca-575e7b0a6603",
        "colab": {
          "base_uri": "https://localhost:8080/",
          "height": 72
        }
      },
      "source": [
        "#Split Sentence\n",
        "from gensim.summarization.textcleaner import split_sentences\n",
        "text = \"\"\"Artificial intelligence,the ability of a digital computer or computer-controlled robot to perform tasks commonly associated with intelligent beings. The term is frequently applied to the project of developing systems endowed with the intellectual processes characteristic of humans, such as the ability to reason, discover meaning, generalize, or learn from past experience.\"\"\"\n",
        "split1 = split_sentences(text)\n",
        "split1"
      ],
      "execution_count": null,
      "outputs": [
        {
          "output_type": "execute_result",
          "data": {
            "text/plain": [
              "['Artificial intelligence,the ability of a digital computer or computer-controlled robot to perform tasks commonly associated with intelligent beings.',\n",
              " 'The term is frequently applied to the project of developing systems endowed with the intellectual processes characteristic of humans, such as the ability to reason, discover meaning, generalize, or learn from past experience.']"
            ]
          },
          "metadata": {
            "tags": []
          },
          "execution_count": 45
        }
      ]
    }
  ]
}