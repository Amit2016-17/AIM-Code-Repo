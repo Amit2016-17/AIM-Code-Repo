{
  "nbformat": 4,
  "nbformat_minor": 0,
  "metadata": {
    "colab": {
      "name": "When to use z or t test.ipynb",
      "provenance": []
    },
    "kernelspec": {
      "name": "python3",
      "display_name": "Python 3"
    }
  },
  "cells": [
    {
      "cell_type": "code",
      "metadata": {
        "id": "WUOR7enyTvwh",
        "outputId": "752687d0-9113-4555-a420-ae1f46448e37",
        "colab": {
          "base_uri": "https://localhost:8080/",
          "height": 35
        }
      },
      "source": [
        "# Mounting drive\n",
        "from google.colab import drive\n",
        "drive.mount('/content/drive')"
      ],
      "execution_count": 1,
      "outputs": [
        {
          "output_type": "stream",
          "text": [
            "Mounted at /content/drive\n"
          ],
          "name": "stdout"
        }
      ]
    },
    {
      "cell_type": "code",
      "metadata": {
        "id": "bJxzNpwTTz05"
      },
      "source": [
        "#Path to directory\n",
        "import os\n",
        "os.chdir('/content/drive/My Drive/NLP Project')"
      ],
      "execution_count": 3,
      "outputs": []
    },
    {
      "cell_type": "code",
      "metadata": {
        "id": "-SKwJk5fYfzm"
      },
      "source": [
        "#Importing Train Dataset\n",
        "import pandas as pd\n",
        "df = pd.read_csv(\"ztest.csv\")\n"
      ],
      "execution_count": 4,
      "outputs": []
    },
    {
      "cell_type": "markdown",
      "metadata": {
        "id": "S6C8cF3HU36k"
      },
      "source": [
        "**Z Test**"
      ]
    },
    {
      "cell_type": "code",
      "metadata": {
        "id": "e4FlXZTdU8Dr",
        "outputId": "498a2b16-8952-42ed-c47f-134aa0f90108",
        "colab": {
          "base_uri": "https://localhost:8080/",
          "height": 107
        }
      },
      "source": [
        "import pandas as pd\n",
        "from scipy import stats\n",
        "from statsmodels.stats import weightstats as stests\n",
        "ztest ,pval = stests.ztest(df['bp_before'], x2=None, value=156)\n",
        "print(float(pval))\n",
        "if pval<0.05:\n",
        "    print(\"reject null hypothesis\")\n",
        "else:\n",
        "    print(\"accept null hypothesis\")"
      ],
      "execution_count": 5,
      "outputs": [
        {
          "output_type": "stream",
          "text": [
            "0.6651614730255063\n",
            "accept null hypothesis\n"
          ],
          "name": "stdout"
        },
        {
          "output_type": "stream",
          "text": [
            "/usr/local/lib/python3.6/dist-packages/statsmodels/tools/_testing.py:19: FutureWarning: pandas.util.testing is deprecated. Use the functions in the public API at pandas.testing instead.\n",
            "  import pandas.util.testing as tm\n"
          ],
          "name": "stderr"
        }
      ]
    },
    {
      "cell_type": "code",
      "metadata": {
        "id": "2uq1nJpiWGHJ",
        "outputId": "64386298-d7f0-4604-f9b8-2777dc29bab8",
        "colab": {
          "base_uri": "https://localhost:8080/",
          "height": 52
        }
      },
      "source": [
        "ztest ,pval1 = stests.ztest(df['bp_before'], x2=df['bp_after'], value=0,alternative='two-sided')\n",
        "print(float(pval1))\n",
        "if pval1<0.05:\n",
        "    print(\"reject null hypothesis\")\n",
        "else:\n",
        "    print(\"accept null hypothesis\")"
      ],
      "execution_count": 6,
      "outputs": [
        {
          "output_type": "stream",
          "text": [
            "0.002162306611369422\n",
            "reject null hypothesis\n"
          ],
          "name": "stdout"
        }
      ]
    },
    {
      "cell_type": "markdown",
      "metadata": {
        "id": "xAksMzQoZ5OJ"
      },
      "source": [
        "**T Test**"
      ]
    },
    {
      "cell_type": "code",
      "metadata": {
        "id": "HnqxvrvkZ9ho"
      },
      "source": [
        "import numpy as np\n",
        "import pandas as pd\n",
        "import matplotlib.pyplot as plt\n",
        "import seaborn as sns\n",
        "import scipy.stats as stats # some useful stuff\n",
        "wine_data = pd.read_csv(\"winemag-data-130k-v2.csv\")"
      ],
      "execution_count": 8,
      "outputs": []
    },
    {
      "cell_type": "code",
      "metadata": {
        "id": "cgQSATBi916U",
        "outputId": "2f76d86f-1cd3-4e38-bdf3-40f8b347bdb0",
        "colab": {
          "base_uri": "https://localhost:8080/",
          "height": 35
        }
      },
      "source": [
        "x = wine_data['points']\n",
        "mu = x.mean()\n",
        "sigma = x.std(ddof=0)\n",
        "print(\"mu: \", mu, \", sigma:\", sigma)"
      ],
      "execution_count": 10,
      "outputs": [
        {
          "output_type": "stream",
          "text": [
            "mu:  88.44713820775404 , sigma: 3.0397185090150947\n"
          ],
          "name": "stdout"
        }
      ]
    },
    {
      "cell_type": "code",
      "metadata": {
        "id": "hqehvj3d-MI7",
        "outputId": "6a2299e1-ddd2-4e63-e24c-45fd71f2cb36",
        "colab": {
          "base_uri": "https://localhost:8080/",
          "height": 69
        }
      },
      "source": [
        "x = np.random.normal(loc=9.2,scale=1.5,size=30).round(1)\n",
        "print(x)"
      ],
      "execution_count": 11,
      "outputs": [
        {
          "output_type": "stream",
          "text": [
            "[ 9.8  9.6  9.6 10.2  7.9  8.6  7.4  6.4  9.4 10.   9.9  7.6  9.5 12.6\n",
            "  8.6  7.6 10.6  9.1  6.9  8.2  8.1  7.1  9.8 10.3  5.9 11.3  9.6 11.4\n",
            " 11.2  8.6]\n"
          ],
          "name": "stdout"
        }
      ]
    },
    {
      "cell_type": "code",
      "metadata": {
        "id": "PV61JD0D-Sz5",
        "outputId": "9643a26b-14ae-4216-9bbb-b9275163c809",
        "colab": {
          "base_uri": "https://localhost:8080/",
          "height": 69
        }
      },
      "source": [
        "#One Sample t test\n",
        "x = [8.8, 6.6, 9.5, 11.2, 10.2, 7.4, 8.0, 9.6, 9.9, 9.0,\n",
        "     7.6, 7.4, 10.4, 11.1, 8.5, 10.0, 11.6, 10.7, 10.3, 7.0]\n",
        "mu = 10\n",
        "t_critical = 2.093\n",
        "x_bar = np.array(x).mean()\n",
        "s = np.array(x).std(ddof=1) # subtract 1 from N to get unbiased estimate of sample standard deviation\n",
        "N = len(x)\n",
        "SE = s/np.sqrt(N)\n",
        "t = (x_bar - mu)/SE\n",
        "print(\"t-statistic: \",t)\n",
        "\n",
        "# a one sample t-test that gives you the p-value too can be done with scipy as follows:\n",
        "t, p = stats.ttest_1samp(x, mu)\n",
        "print(\"t = \", t, \", p = \", p)\n",
        "if p<0.05:\n",
        "    print(\"reject null hypothesis\")\n",
        "else:\n",
        "    print(\"accept null hypothesis\")"
      ],
      "execution_count": 14,
      "outputs": [
        {
          "output_type": "stream",
          "text": [
            "t-statistic:  -2.2491611580763977\n",
            "t =  -2.2491611580763973 , p =  0.03655562279112415\n",
            "reject null hypothesis\n"
          ],
          "name": "stdout"
        }
      ]
    },
    {
      "cell_type": "code",
      "metadata": {
        "id": "UQv3R0Qw--FW",
        "outputId": "a194f72c-df92-42dd-ec72-18a1b48be296",
        "colab": {
          "base_uri": "https://localhost:8080/",
          "height": 52
        }
      },
      "source": [
        "# sample up wind\n",
        "x1 = [10.8, 10.0, 8.2, 9.9, 11.6, 10.1, 11.3, 10.3, 10.7, 9.7, \n",
        "      7.8, 9.6, 9.7, 11.6, 10.3, 9.8, 12.3, 11.0, 10.4, 10.4]\n",
        "\n",
        "# sample down wind\n",
        "x2 = [7.8, 7.5, 9.5, 11.7, 8.1, 8.8, 8.8, 7.7, 9.7, 7.0, \n",
        "      9.0, 9.7, 11.3, 8.7, 8.8, 10.9, 10.3, 9.6, 8.4, 6.6,\n",
        "      7.2, 7.6, 11.5, 6.6, 8.6, 10.5, 8.4, 8.5, 10.2, 9.2]\n",
        "\n",
        "# equal sample size and assume equal population variance\n",
        "t_critical = 1.677\n",
        "X1 = len(x1)\n",
        "X2 = len(x2)\n",
        "t1 = X1-1\n",
        "t2 = X2-1\n",
        "df = t1+t2\n",
        "s1 = np.std(x1,ddof=1)\n",
        "s2 = np.std(x2,ddof=1)\n",
        "x1_bar = np.mean(x1)\n",
        "x2_bar = np.mean(x2)\n",
        "\n",
        "sp = np.sqrt((t1*s1**2 + t2*s2**2)/df)\n",
        "se = sp*np.sqrt(1/X1 + 1/X2)\n",
        "t = (x2_bar - x1_bar)/(se)\n",
        "print(\"t-statistic\", t)\n",
        "\n",
        "# a two-sample independent t-test is done with scipy as follows\n",
        "# NOTE: the p-value given is two-sided so the one-sided p value would be p/2\n",
        "t, p_twosided = stats.ttest_ind(x2, x1, equal_var=True)\n",
        "print(\"t = \",t, \", p_twosided = \", p_twosided, \", p_onesided =\", p_twosided/2)"
      ],
      "execution_count": 15,
      "outputs": [
        {
          "output_type": "stream",
          "text": [
            "t-statistic -3.5981947686898033\n",
            "t =  -3.5981947686898033 , p_twosided =  0.0007560337478801464 , p_onesided = 0.0003780168739400732\n"
          ],
          "name": "stdout"
        }
      ]
    },
    {
      "cell_type": "code",
      "metadata": {
        "id": "EEk0GGmdaPhO",
        "outputId": "260f8053-2eaf-40a7-a4c1-fdaa73ff3f61",
        "colab": {
          "base_uri": "https://localhost:8080/",
          "height": 52
        }
      },
      "source": [
        "import pandas as pd\n",
        "from scipy import stats\n",
        "df = pd.read_csv(\"ztest.csv\")\n",
        "df[['bp_before','bp_after']].describe()\n",
        "ttest,pval = stats.ttest_rel(df['bp_before'], df['bp_after'])\n",
        "print(pval)\n",
        "if pval<0.05:\n",
        "    print(\"reject null hypothesis\")\n",
        "else:\n",
        "    print(\"accept null hypothesis\")"
      ],
      "execution_count": 14,
      "outputs": [
        {
          "output_type": "stream",
          "text": [
            "0.0011297914644840823\n",
            "reject null hypothesis\n"
          ],
          "name": "stdout"
        }
      ]
    }
  ]
}